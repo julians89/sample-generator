{
 "cells": [
  {
   "cell_type": "code",
   "execution_count": 2,
   "metadata": {},
   "outputs": [
    {
     "name": "stdout",
     "output_type": "stream",
     "text": [
      "Requirement already satisfied: torch in c:\\users\\jschmiemann\\anaconda3\\envs\\dance\\lib\\site-packages (1.10.2)\n",
      "Requirement already satisfied: torchaudio in c:\\users\\jschmiemann\\anaconda3\\envs\\dance\\lib\\site-packages (0.10.2)\n",
      "Requirement already satisfied: numpy in c:\\users\\jschmiemann\\anaconda3\\envs\\dance\\lib\\site-packages (1.19.5)\n",
      "Requirement already satisfied: tqdm in c:\\users\\jschmiemann\\anaconda3\\envs\\dance\\lib\\site-packages (4.64.1)\n",
      "Requirement already satisfied: PySoundFile in c:\\users\\jschmiemann\\anaconda3\\envs\\dance\\lib\\site-packages (0.9.0.post1)\n",
      "Requirement already satisfied: dataclasses in c:\\users\\jschmiemann\\anaconda3\\envs\\dance\\lib\\site-packages (from torch) (0.8)\n",
      "Requirement already satisfied: typing-extensions in c:\\users\\jschmiemann\\anaconda3\\envs\\dance\\lib\\site-packages (from torch) (4.1.1)\n",
      "Requirement already satisfied: colorama in c:\\users\\jschmiemann\\anaconda3\\envs\\dance\\lib\\site-packages (from tqdm) (0.4.5)\n",
      "Requirement already satisfied: importlib-resources in c:\\users\\jschmiemann\\anaconda3\\envs\\dance\\lib\\site-packages (from tqdm) (5.4.0)\n",
      "Requirement already satisfied: cffi>=0.6 in c:\\users\\jschmiemann\\anaconda3\\envs\\dance\\lib\\site-packages (from PySoundFile) (1.15.1)\n",
      "Requirement already satisfied: pycparser in c:\\users\\jschmiemann\\anaconda3\\envs\\dance\\lib\\site-packages (from cffi>=0.6->PySoundFile) (2.21)\n",
      "Requirement already satisfied: zipp>=3.1.0 in c:\\users\\jschmiemann\\anaconda3\\envs\\dance\\lib\\site-packages (from importlib-resources->tqdm) (3.6.0)\n",
      "Note: you may need to restart the kernel to use updated packages.\n"
     ]
    }
   ],
   "source": [
    "#Python 3.6!\n",
    "%pip install torch torchaudio numpy tqdm PySoundFile"
   ]
  },
  {
   "cell_type": "code",
   "execution_count": 3,
   "metadata": {},
   "outputs": [
    {
     "name": "stderr",
     "output_type": "stream",
     "text": [
      "c:\\Users\\jschmiemann\\Anaconda3\\envs\\dance\\lib\\site-packages\\tqdm\\auto.py:22: TqdmWarning: IProgress not found. Please update jupyter and ipywidgets. See https://ipywidgets.readthedocs.io/en/stable/user_install.html\n",
      "  from .autonotebook import tqdm as notebook_tqdm\n"
     ]
    },
    {
     "name": "stdout",
     "output_type": "stream",
     "text": [
      "filenames:  ['c:\\\\Users\\\\jschmiemann\\\\sample-generator\\\\data\\\\a.wav']\n",
      "running sox \n"
     ]
    },
    {
     "ename": "RuntimeError",
     "evalue": "torchaudio.sox_effects.sox_effects.apply_effects_tensor requires sox",
     "output_type": "error",
     "traceback": [
      "\u001b[1;31m---------------------------------------------------------------------------\u001b[0m",
      "\u001b[1;31mRuntimeError\u001b[0m                              Traceback (most recent call last)",
      "\u001b[1;32m<ipython-input-3-49c1d713fbcc>\u001b[0m in \u001b[0;36m<module>\u001b[1;34m\u001b[0m\n\u001b[0;32m     15\u001b[0m \u001b[1;33m\u001b[0m\u001b[0m\n\u001b[0;32m     16\u001b[0m \u001b[1;32mfor\u001b[0m \u001b[0mepoch\u001b[0m \u001b[1;32min\u001b[0m \u001b[0mrange\u001b[0m\u001b[1;33m(\u001b[0m\u001b[1;36m10\u001b[0m\u001b[1;33m)\u001b[0m\u001b[1;33m:\u001b[0m\u001b[1;33m\u001b[0m\u001b[1;33m\u001b[0m\u001b[0m\n\u001b[1;32m---> 17\u001b[1;33m     \u001b[1;32mfor\u001b[0m \u001b[0msample\u001b[0m\u001b[1;33m,\u001b[0m \u001b[0msample_name\u001b[0m \u001b[1;32min\u001b[0m \u001b[0mds\u001b[0m\u001b[1;33m:\u001b[0m\u001b[1;33m\u001b[0m\u001b[1;33m\u001b[0m\u001b[0m\n\u001b[0m\u001b[0;32m     18\u001b[0m         \u001b[0mprint\u001b[0m \u001b[1;33m(\u001b[0m\u001b[0msample_name\u001b[0m\u001b[1;33m,\u001b[0m \u001b[1;34m': '\u001b[0m\u001b[1;33m,\u001b[0m \u001b[0msample\u001b[0m\u001b[1;33m.\u001b[0m\u001b[0mshape\u001b[0m\u001b[1;33m)\u001b[0m\u001b[1;33m\u001b[0m\u001b[1;33m\u001b[0m\u001b[0m\n\u001b[0;32m     19\u001b[0m \u001b[1;33m\u001b[0m\u001b[0m\n",
      "\u001b[1;32mc:\\Users\\jschmiemann\\sample-generator\\dataset\\dataset.py\u001b[0m in \u001b[0;36m__getitem__\u001b[1;34m(self, idx)\u001b[0m\n\u001b[0;32m    126\u001b[0m     \u001b[0mprint\u001b[0m \u001b[1;33m(\u001b[0m\u001b[1;34m'running sox '\u001b[0m\u001b[1;33m)\u001b[0m\u001b[1;33m\u001b[0m\u001b[1;33m\u001b[0m\u001b[0m\n\u001b[0;32m    127\u001b[0m \u001b[1;33m\u001b[0m\u001b[0m\n\u001b[1;32m--> 128\u001b[1;33m     \u001b[0maudio\u001b[0m\u001b[1;33m,\u001b[0m \u001b[0m_\u001b[0m \u001b[1;33m=\u001b[0m \u001b[0mapply_effects_tensor\u001b[0m\u001b[1;33m(\u001b[0m\u001b[0maudio\u001b[0m\u001b[1;33m,\u001b[0m \u001b[0mself\u001b[0m\u001b[1;33m.\u001b[0m\u001b[0msr\u001b[0m\u001b[1;33m,\u001b[0m \u001b[0mself\u001b[0m\u001b[1;33m.\u001b[0m\u001b[0msox_effects\u001b[0m\u001b[1;33m)\u001b[0m\u001b[1;33m\u001b[0m\u001b[1;33m\u001b[0m\u001b[0m\n\u001b[0m\u001b[0;32m    129\u001b[0m     \u001b[0mprint\u001b[0m \u001b[1;33m(\u001b[0m\u001b[1;34m'changed '\u001b[0m\u001b[1;33m)\u001b[0m\u001b[1;33m\u001b[0m\u001b[1;33m\u001b[0m\u001b[0m\n\u001b[0;32m    130\u001b[0m \u001b[1;33m\u001b[0m\u001b[0m\n",
      "\u001b[1;32mc:\\Users\\jschmiemann\\Anaconda3\\envs\\dance\\lib\\site-packages\\torchaudio\\_internal\\module_utils.py\u001b[0m in \u001b[0;36mwrapped\u001b[1;34m(*args, **kwargs)\u001b[0m\n\u001b[0;32m    121\u001b[0m             \u001b[1;33m@\u001b[0m\u001b[0mwraps\u001b[0m\u001b[1;33m(\u001b[0m\u001b[0mfunc\u001b[0m\u001b[1;33m)\u001b[0m\u001b[1;33m\u001b[0m\u001b[1;33m\u001b[0m\u001b[0m\n\u001b[0;32m    122\u001b[0m             \u001b[1;32mdef\u001b[0m \u001b[0mwrapped\u001b[0m\u001b[1;33m(\u001b[0m\u001b[1;33m*\u001b[0m\u001b[0margs\u001b[0m\u001b[1;33m,\u001b[0m \u001b[1;33m**\u001b[0m\u001b[0mkwargs\u001b[0m\u001b[1;33m)\u001b[0m\u001b[1;33m:\u001b[0m\u001b[1;33m\u001b[0m\u001b[1;33m\u001b[0m\u001b[0m\n\u001b[1;32m--> 123\u001b[1;33m                 \u001b[1;32mraise\u001b[0m \u001b[0mRuntimeError\u001b[0m\u001b[1;33m(\u001b[0m\u001b[1;34mf'{func.__module__}.{func.__name__} requires sox'\u001b[0m\u001b[1;33m)\u001b[0m\u001b[1;33m\u001b[0m\u001b[1;33m\u001b[0m\u001b[0m\n\u001b[0m\u001b[0;32m    124\u001b[0m             \u001b[1;32mreturn\u001b[0m \u001b[0mwrapped\u001b[0m\u001b[1;33m\u001b[0m\u001b[1;33m\u001b[0m\u001b[0m\n\u001b[0;32m    125\u001b[0m     \u001b[1;32mreturn\u001b[0m \u001b[0mdecorator\u001b[0m\u001b[1;33m\u001b[0m\u001b[1;33m\u001b[0m\u001b[0m\n",
      "\u001b[1;31mRuntimeError\u001b[0m: torchaudio.sox_effects.sox_effects.apply_effects_tensor requires sox"
     ]
    }
   ],
   "source": [
    "from dataset.dataset import SampleDataset\n",
    "import torchaudio\n",
    "import os\n",
    "\n",
    "class GA:\n",
    "    def __init__(self):\n",
    "        self.random_crop = True\n",
    "        self.sample_size = 65536\n",
    "        self.sample_rate = 48000\n",
    "        self.num_gpus = 1\n",
    "        self.cache_training_data = False\n",
    "\n",
    "global_args = GA()\n",
    "ds = SampleDataset(global_args=global_args, paths=[os.path.join(os.getcwd(), \"data\")])\n",
    "\n",
    "for epoch in range(10):\n",
    "    for sample, sample_name in ds:\n",
    "        print (sample_name, ': ', sample.shape)\n",
    "\n",
    "        torchaudio.backend.soundfile_backend.save(filepath=os.path.join(os.path.join(os.getcwd(), \"out\"), 'epoch_' + str(epoch) + '_' + os.path.basename(sample_name)),\n",
    "                                                  src=sample,\n",
    "                                                  sample_rate=global_args.sample_rate,\n",
    "                                                  )"
   ]
  }
 ],
 "metadata": {
  "kernelspec": {
   "display_name": "Python 3.6.13",
   "language": "python",
   "name": "python3"
  },
  "language_info": {
   "codemirror_mode": {
    "name": "ipython",
    "version": 3
   },
   "file_extension": ".py",
   "mimetype": "text/x-python",
   "name": "python",
   "nbconvert_exporter": "python",
   "pygments_lexer": "ipython3",
   "version": "3.6.13"
  },
  "orig_nbformat": 4,
  "vscode": {
   "interpreter": {
    "hash": "209fbd10a5faa6d19520c80f2d893631e7fe4641f9d12eb4ecd9d06fa5d8668f"
   }
  }
 },
 "nbformat": 4,
 "nbformat_minor": 2
}
