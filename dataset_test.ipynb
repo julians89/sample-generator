{
 "cells": [
  {
   "cell_type": "code",
   "execution_count": 2,
   "metadata": {},
   "outputs": [
    {
     "ename": "SyntaxError",
     "evalue": "invalid syntax (<ipython-input-2-1e8b50e1f83c>, line 2)",
     "output_type": "error",
     "traceback": [
      "\u001b[1;36m  File \u001b[1;32m\"<ipython-input-2-1e8b50e1f83c>\"\u001b[1;36m, line \u001b[1;32m2\u001b[0m\n\u001b[1;33m    pip install torch torchaudio numpy tqdm PySoundFile\u001b[0m\n\u001b[1;37m              ^\u001b[0m\n\u001b[1;31mSyntaxError\u001b[0m\u001b[1;31m:\u001b[0m invalid syntax\n"
     ]
    }
   ],
   "source": [
    "#Python 3.6!\n",
    "%pip install torch torchaudio numpy tqdm PySoundFile"
   ]
  },
  {
   "cell_type": "code",
   "execution_count": null,
   "metadata": {},
   "outputs": [],
   "source": [
    "from dataset.dataset import SampleDataset\n",
    "import torchaudio\n",
    "import os\n",
    "\n",
    "class GA:\n",
    "    def __init__(self):\n",
    "        self.random_crop = True\n",
    "        self.sample_size = 65536\n",
    "        self.sample_rate = 48000\n",
    "        self.num_gpus = 1\n",
    "        self.cache_training_data = False\n",
    "\n",
    "global_args = GA()\n",
    "ds = SampleDataset(global_args=global_args, paths=[os.path.join(os.getcwd(), \"data\")])\n",
    "\n",
    "for epoch in range(10):\n",
    "    for sample, sample_name in ds:\n",
    "        print (sample_name, ': ', sample.shape)\n",
    "\n",
    "        torchaudio.backend.soundfile_backend.save(filepath=os.path.join(os.path.join(os.getcwd(), \"out\"), 'epoch_' + str(epoch) + '_' + os.path.basename(sample_name)),\n",
    "                                                  src=sample,\n",
    "                                                  sample_rate=global_args.sample_rate,\n",
    "                                                  )"
   ]
  }
 ],
 "metadata": {
  "kernelspec": {
   "display_name": "Python 3.6.13",
   "language": "python",
   "name": "python3"
  },
  "language_info": {
   "codemirror_mode": {
    "name": "ipython",
    "version": 3
   },
   "file_extension": ".py",
   "mimetype": "text/x-python",
   "name": "python",
   "nbconvert_exporter": "python",
   "pygments_lexer": "ipython3",
   "version": "3.6.13"
  },
  "orig_nbformat": 4,
  "vscode": {
   "interpreter": {
    "hash": "209fbd10a5faa6d19520c80f2d893631e7fe4641f9d12eb4ecd9d06fa5d8668f"
   }
  }
 },
 "nbformat": 4,
 "nbformat_minor": 2
}
